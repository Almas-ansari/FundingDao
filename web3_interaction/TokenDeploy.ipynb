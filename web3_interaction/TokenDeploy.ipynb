{
 "cells": [
  {
   "cell_type": "code",
   "execution_count": 1,
   "metadata": {},
   "outputs": [
    {
     "name": "stdout",
     "output_type": "stream",
     "text": [
      "Connected:  True\n",
      "Attempting to deploy from account: 0xDD68f5fF62682582496836929cDf299258835b45\n",
      "Contract deployed at address: 0x81dD948eB6D59d7A7d7b628E4f2A4C1b59570d94\n"
     ]
    }
   ],
   "source": [
    "from web3 import Web3\n",
    "import json\n",
    "from web3.middleware import geth_poa_middleware\n",
    "\n",
    "\n",
    "# 2. Add the Web3 provider logic here:\n",
    "# Initiaing Connection\n",
    "infura_url = 'https://rinkeby.infura.io/v3/1b0fc3af1d194e8ea8db248ccf926085'\n",
    "web3 = Web3(Web3.HTTPProvider(infura_url))\n",
    "web3.middleware_onion.inject(geth_poa_middleware, layer=0)\n",
    "print(\"Connected: \", str(web3.isConnected()))\n",
    "\n",
    "wallet = ''\n",
    "with open('wallet.json', 'r') as f:\n",
    "    wallet = json.load(f)\n",
    "\n",
    "account1 = Web3.toChecksumAddress(wallet['account1']['address'])\n",
    "private_key = wallet['account1']['private_key']\n",
    "\n",
    "print(f'Attempting to deploy from account: { account1 }')\n",
    "\n",
    "# 4. Create contract instance\n",
    "abi_file = open('../artifacts/contracts/Token.sol/Token.json')\n",
    "abi = json.load(abi_file)['abi']\n",
    "\n",
    "abi_file = open('../artifacts/contracts/Token.sol/Token.json')\n",
    "bytecode = json.load(abi_file)['bytecode']\n",
    "Token = web3.eth.contract(abi=abi, bytecode=bytecode)\n",
    "\n",
    "# 5. Build constructor tx\n",
    "totalSupply = 1000000\n",
    "name = str(\"Pawan Token\")\n",
    "symbol = str(\"PT\")\n",
    "decimals = 16\n",
    "\n",
    "construct_txn = Token.constructor(totalSupply, name, symbol, decimals).buildTransaction(\n",
    "    {\n",
    "        'from': account1,\n",
    "        'nonce': web3.eth.get_transaction_count(account1),\n",
    "    }\n",
    ")\n",
    "\n",
    "# 6. Sign tx with PK\n",
    "tx_create = web3.eth.account.sign_transaction(construct_txn, private_key)\n",
    "\n",
    "# 7. Send tx and wait for receipt\n",
    "tx_hash = web3.eth.send_raw_transaction(tx_create.rawTransaction)\n",
    "tx_receipt = web3.eth.wait_for_transaction_receipt(tx_hash)\n",
    "\n",
    "print(f'Contract deployed at address: { tx_receipt.contractAddress }')\n"
   ]
  },
  {
   "cell_type": "code",
   "execution_count": null,
   "metadata": {},
   "outputs": [],
   "source": [
    "Connected:  True\n",
    "Attempting to deploy from account: 0xDD68f5fF62682582496836929cDf299258835b45\n",
    "Contract deployed at address: 0x81dD948eB6D59d7A7d7b628E4f2A4C1b59570d94"
   ]
  }
 ],
 "metadata": {
  "kernelspec": {
   "display_name": "Python 3.9.7 ('Web3')",
   "language": "python",
   "name": "python3"
  },
  "language_info": {
   "codemirror_mode": {
    "name": "ipython",
    "version": 3
   },
   "file_extension": ".py",
   "mimetype": "text/x-python",
   "name": "python",
   "nbconvert_exporter": "python",
   "pygments_lexer": "ipython3",
   "version": "3.9.7"
  },
  "orig_nbformat": 4,
  "vscode": {
   "interpreter": {
    "hash": "5ee25d995fdff53f6710b6a1599c16ad29b21126fe8dcb3f661d734bc76345a4"
   }
  }
 },
 "nbformat": 4,
 "nbformat_minor": 2
}
