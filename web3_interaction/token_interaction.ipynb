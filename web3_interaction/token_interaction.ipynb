{
 "cells": [
  {
   "cell_type": "code",
   "execution_count": 26,
   "metadata": {},
   "outputs": [],
   "source": [
    "from web3 import Web3\n",
    "import json"
   ]
  },
  {
   "cell_type": "code",
   "execution_count": 27,
   "metadata": {},
   "outputs": [
    {
     "name": "stdout",
     "output_type": "stream",
     "text": [
      "Connected:  True\n"
     ]
    }
   ],
   "source": [
    "# Initiaing Connection\n",
    "infura_url = 'https://rinkeby.infura.io/v3/1b0fc3af1d194e8ea8db248ccf926085'\n",
    "w3 = Web3(Web3.HTTPProvider(infura_url))\n",
    "print(\"Connected: \",str(w3.isConnected()))"
   ]
  },
  {
   "cell_type": "code",
   "execution_count": 28,
   "metadata": {},
   "outputs": [],
   "source": [
    "# Initiating a contract's abi\n",
    "abi_file = open('../artifacts/contracts/Token.sol/Token.json')\n",
    "abi = json.load(abi_file)['abi']\n",
    "\n",
    "contract_address = Web3.toChecksumAddress('0x81dD948eB6D59d7A7d7b628E4f2A4C1b59570d94')\n",
    "contract = w3.eth.contract(address=contract_address, abi=abi)"
   ]
  },
  {
   "cell_type": "code",
   "execution_count": 29,
   "metadata": {},
   "outputs": [],
   "source": [
    "wallet = ''\n",
    "with open('wallet.json', 'r') as f:\n",
    "    wallet = json.load(f)\n",
    "\n",
    "account1 = Web3.toChecksumAddress(wallet['account1']['address'])\n",
    "private_key = wallet['account1']['private_key']"
   ]
  },
  {
   "cell_type": "code",
   "execution_count": 30,
   "metadata": {},
   "outputs": [
    {
     "name": "stdout",
     "output_type": "stream",
     "text": [
      "Owner's account 0xDD68f5fF62682582496836929cDf299258835b45\n",
      "Sample account 0xcEb0643f09cA9a74C0F49F3cFEdbeBAf0E003168\n"
     ]
    }
   ],
   "source": [
    "# Functions For geting owner's address\n",
    "owner = contract.functions.owner().call()\n",
    "sample_account = '0xcEb0643f09cA9a74C0F49F3cFEdbeBAf0E003168'\n",
    "print(\"Owner's account \"+str(owner))\n",
    "print(\"Sample account \"+str(sample_account))"
   ]
  },
  {
   "cell_type": "code",
   "execution_count": 36,
   "metadata": {},
   "outputs": [
    {
     "name": "stdout",
     "output_type": "stream",
     "text": [
      "Owner's balance 1000\n",
      "Sample account's balance 0\n"
     ]
    }
   ],
   "source": [
    "# Functions For geting owner's balance\n",
    "ownerBalance = contract.functions.balanceOf(owner).call()\n",
    "sampleAccountBalance = contract.functions.balanceOf(sample_account).call()\n",
    "print(\"Owner's balance \"+str(ownerBalance))\n",
    "print(\"Sample account's balance \"+str(sampleAccountBalance))"
   ]
  },
  {
   "cell_type": "code",
   "execution_count": 32,
   "metadata": {},
   "outputs": [
    {
     "data": {
      "text/plain": [
       "1000000"
      ]
     },
     "execution_count": 32,
     "metadata": {},
     "output_type": "execute_result"
    }
   ],
   "source": [
    "# Functions For geting total supply of contract\n",
    "totalSupply = contract.functions.totalSupply().call()\n",
    "totalSupply"
   ]
  },
  {
   "cell_type": "code",
   "execution_count": 50,
   "metadata": {},
   "outputs": [
    {
     "name": "stdout",
     "output_type": "stream",
     "text": [
      "0x0c61580ec0ca5be4713fb15b5d267fe2aa962b239af8b5503ec093bcb6182460\n",
      "AttributeDict({'blockHash': HexBytes('0x8ece4a81ea94ebd224e3cab9c640cf622d1ae612941dc46ce8495b6275051242'), 'blockNumber': 11023738, 'contractAddress': None, 'cumulativeGasUsed': 55174, 'effectiveGasPrice': 200000000000, 'from': '0xDD68f5fF62682582496836929cDf299258835b45', 'gasUsed': 55174, 'logs': [AttributeDict({'address': '0x81dD948eB6D59d7A7d7b628E4f2A4C1b59570d94', 'blockHash': HexBytes('0x8ece4a81ea94ebd224e3cab9c640cf622d1ae612941dc46ce8495b6275051242'), 'blockNumber': 11023738, 'data': '0x00000000000000000000000000000000000000000000000000000000000003e80000000000000000000000000000000000000000000000000000000000000032', 'logIndex': 0, 'removed': False, 'topics': [HexBytes('0x8a9dcf4e150b1153011b29fec302d5be0c13e84fa8f56ab78587f778a32a90dd')], 'transactionHash': HexBytes('0x0c61580ec0ca5be4713fb15b5d267fe2aa962b239af8b5503ec093bcb6182460'), 'transactionIndex': 0})], 'logsBloom': HexBytes('0x00000000000000000000000000000000000000000000000000000000000000000000000000000000000000000010000000000000000000000000000000000000000000000000000000000000000000000000000000000000000000000000000000000000000000000000000000000000000000000000000000000000000000000000000000000008000000000000000000000040000000000000000000000000000000000000000000000000000000000000000000000000000001000000000000000000000000000000400000000000000000000000000000000000000000000000000000000000200000000000000000000000000000000000000000000000'), 'status': 1, 'to': '0x81dD948eB6D59d7A7d7b628E4f2A4C1b59570d94', 'transactionHash': HexBytes('0x0c61580ec0ca5be4713fb15b5d267fe2aa962b239af8b5503ec093bcb6182460'), 'transactionIndex': 0, 'type': '0x0'})\n"
     ]
    },
    {
     "data": {
      "text/plain": [
       "1000"
      ]
     },
     "execution_count": 50,
     "metadata": {},
     "output_type": "execute_result"
    }
   ],
   "source": [
    "# Create a nonce\n",
    "nonce = w3.eth.get_transaction_count(account1)\n",
    "\n",
    "# Create a Transaction\n",
    "tx = contract.functions.mint(owner, 1000, 50).buildTransaction({\n",
    "        'from' : account1,\n",
    "        'nonce' : nonce,\n",
    "        'gas' : 3000000,\n",
    "        'gasPrice' : w3.toWei(200, 'gwei'),\n",
    "})\n",
    "\n",
    "# Sign Transaction\n",
    "signed_tx = w3.eth.account.sign_transaction(tx, private_key)\n",
    "\n",
    "\n",
    "# Send Raw Transaction\n",
    "tx_hash = w3.toHex(w3.eth.send_raw_transaction(signed_tx.rawTransaction))\n",
    "print(tx_hash)\n",
    "tx_receipt = w3.eth.wait_for_transaction_receipt(tx_hash)\n",
    "print(tx_receipt)\n",
    "\n",
    "# Functions For geting owner's balance after minting tokens\n",
    "ownerBalance = contract.functions.balanceOf('0xDD68f5fF62682582496836929cDf299258835b45').call()\n",
    "ownerBalance\n"
   ]
  },
  {
   "cell_type": "code",
   "execution_count": null,
   "metadata": {},
   "outputs": [],
   "source": [
    "# IERC20 Function Calls"
   ]
  },
  {
   "cell_type": "code",
   "execution_count": 51,
   "metadata": {},
   "outputs": [
    {
     "name": "stdout",
     "output_type": "stream",
     "text": [
      "0x2893dcdfa21694dd401d55b06774bfc01e7877eac86114d01c61fd73587786e8\n",
      "AttributeDict({'blockHash': HexBytes('0xde9ad181e4831181fcce4cbf4a2b489219a4e8f6724e7fbe151103de2f7d9a67'), 'blockNumber': 11023739, 'contractAddress': None, 'cumulativeGasUsed': 45166, 'effectiveGasPrice': 200000000000, 'from': '0xDD68f5fF62682582496836929cDf299258835b45', 'gasUsed': 45166, 'logs': [AttributeDict({'address': '0x81dD948eB6D59d7A7d7b628E4f2A4C1b59570d94', 'blockHash': HexBytes('0xde9ad181e4831181fcce4cbf4a2b489219a4e8f6724e7fbe151103de2f7d9a67'), 'blockNumber': 11023739, 'data': '0x00000000000000000000000000000000000000000000000000000000000001f4', 'logIndex': 0, 'removed': False, 'topics': [HexBytes('0xddf252ad1be2c89b69c2b068fc378daa952ba7f163c4a11628f55a4df523b3ef'), HexBytes('0x000000000000000000000000dd68f5ff62682582496836929cdf299258835b45'), HexBytes('0x000000000000000000000000ceb0643f09ca9a74c0f49f3cfedbebaf0e003168')], 'transactionHash': HexBytes('0x2893dcdfa21694dd401d55b06774bfc01e7877eac86114d01c61fd73587786e8'), 'transactionIndex': 0})], 'logsBloom': HexBytes('0x00000000000000000000000000000000000000000000000000000000000000000000000000000000000000000010000000000000000000000000000000000000000000000000000200000008000000000000000000000000000000000002000000000000000800000004000000000000000000000000000000000010000000000000000000000008000000000000000000000040000000000000000000000000000000000000000000000000000000000000000000000000002000000000000000000002000000000000000000000000004000000000000000000000000000000000000000000000000000000000000000000000000000000000000000000000'), 'status': 1, 'to': '0x81dD948eB6D59d7A7d7b628E4f2A4C1b59570d94', 'transactionHash': HexBytes('0x2893dcdfa21694dd401d55b06774bfc01e7877eac86114d01c61fd73587786e8'), 'transactionIndex': 0, 'type': '0x0'})\n"
     ]
    }
   ],
   "source": [
    "# Transfering tokens From owner's to a account\n",
    "# Create a nonce\n",
    "nonce = w3.eth.get_transaction_count(account1)\n",
    "\n",
    "# Create a Transaction\n",
    "tx = contract.functions.transfer(sample_account, 500).buildTransaction({\n",
    "        'from' : account1,\n",
    "        'nonce' : nonce,\n",
    "        'gas' : 3000000,\n",
    "        'gasPrice' : w3.toWei(200, 'gwei'),\n",
    "})\n",
    "\n",
    "# Sign Transaction\n",
    "signed_tx = w3.eth.account.sign_transaction(tx, private_key)\n",
    "\n",
    "\n",
    "# Send Raw Transaction\n",
    "tx_hash = w3.toHex(w3.eth.send_raw_transaction(signed_tx.rawTransaction))\n",
    "print(tx_hash)\n",
    "tx_receipt = w3.eth.wait_for_transaction_receipt(tx_hash)\n",
    "print(tx_receipt)\n"
   ]
  },
  {
   "cell_type": "code",
   "execution_count": 52,
   "metadata": {},
   "outputs": [
    {
     "name": "stdout",
     "output_type": "stream",
     "text": [
      "Transfered to Balance : 1500\n"
     ]
    }
   ],
   "source": [
    "# Checking transfered amount\n",
    "toBalance = contract.functions.balanceOf(sample_account).call()\n",
    "print(\"Transfered to Balance : \"+str(toBalance))"
   ]
  },
  {
   "cell_type": "code",
   "execution_count": 39,
   "metadata": {},
   "outputs": [
    {
     "name": "stdout",
     "output_type": "stream",
     "text": [
      "0xaae5537a9e40abc3d8c363ca2fa93f7e4e2e0434e0f1f34fd27d16266221316b\n",
      "AttributeDict({'blockHash': HexBytes('0xd3d491bdc97e108ee555a8e7b894b5d64cc549e1f19b1cbffe8a1802a856f5e8'), 'blockNumber': 11023727, 'contractAddress': None, 'cumulativeGasUsed': 46877, 'effectiveGasPrice': 200000000000, 'from': '0xDD68f5fF62682582496836929cDf299258835b45', 'gasUsed': 46877, 'logs': [AttributeDict({'address': '0x81dD948eB6D59d7A7d7b628E4f2A4C1b59570d94', 'blockHash': HexBytes('0xd3d491bdc97e108ee555a8e7b894b5d64cc549e1f19b1cbffe8a1802a856f5e8'), 'blockNumber': 11023727, 'data': '0x00000000000000000000000000000000000000000000000000000000000000fa', 'logIndex': 0, 'removed': False, 'topics': [HexBytes('0x8c5be1e5ebec7d5bd14f71427d1e84f3dd0314c0f7b2291e5b200ac8c7c3b925'), HexBytes('0x000000000000000000000000dd68f5ff62682582496836929cdf299258835b45'), HexBytes('0x000000000000000000000000ceb0643f09ca9a74c0f49f3cfedbebaf0e003168')], 'transactionHash': HexBytes('0xaae5537a9e40abc3d8c363ca2fa93f7e4e2e0434e0f1f34fd27d16266221316b'), 'transactionIndex': 0})], 'logsBloom': HexBytes('0x00000000000000000000000000000000000000000000000000000000000000000000000000000000000000000010000000000000000000000000000000200000000000000000000200000000000000000000000000000000000000000002000000000000000800000004000000000000000000000000000000000000000000000000000000000008000000000000000000000040000000000000000000000000020000000000000000000000000000000000000000000000002000000000000000000000000000000000000000000000004000000000000000000000000000000010000000000000000000000000000000000000000000000000000000000000'), 'status': 1, 'to': '0x81dD948eB6D59d7A7d7b628E4f2A4C1b59570d94', 'transactionHash': HexBytes('0xaae5537a9e40abc3d8c363ca2fa93f7e4e2e0434e0f1f34fd27d16266221316b'), 'transactionIndex': 0, 'type': '0x0'})\n"
     ]
    }
   ],
   "source": [
    "# Create a nonce\n",
    "nonce = w3.eth.get_transaction_count(account1)\n",
    "\n",
    "# Create a Transaction\n",
    "to= '0xcEb0643f09cA9a74C0F49F3cFEdbeBAf0E003168'\n",
    "tx = contract.functions.approve(sample_account, 250).buildTransaction({\n",
    "        'from' : account1,\n",
    "        'nonce' : nonce,\n",
    "        'gas' : 3000000,\n",
    "        'gasPrice' : w3.toWei(200, 'gwei'),\n",
    "})\n",
    "\n",
    "# Sign Transaction\n",
    "signed_tx = w3.eth.account.sign_transaction(tx, private_key)\n",
    "\n",
    "\n",
    "# Send Raw Transaction\n",
    "tx_hash = w3.toHex(w3.eth.send_raw_transaction(signed_tx.rawTransaction))\n",
    "print(tx_hash)\n",
    "tx_receipt = w3.eth.wait_for_transaction_receipt(tx_hash)\n",
    "print(tx_receipt)\n"
   ]
  },
  {
   "cell_type": "code",
   "execution_count": 40,
   "metadata": {},
   "outputs": [
    {
     "data": {
      "text/plain": [
       "250"
      ]
     },
     "execution_count": 40,
     "metadata": {},
     "output_type": "execute_result"
    }
   ],
   "source": [
    "#Checking for allowance\n",
    "toAllowance = contract.functions.allowance(owner, sample_account).call()\n",
    "toAllowance"
   ]
  },
  {
   "cell_type": "code",
   "execution_count": 41,
   "metadata": {},
   "outputs": [
    {
     "name": "stdout",
     "output_type": "stream",
     "text": [
      "0xc47785e79d80f3ced1f1b0ee267320086acc5541a1c64b5c04d273ffe17f1012\n",
      "AttributeDict({'blockHash': HexBytes('0xf7259e03dbbee9f49a5c7de2169c52ea9b45efdab1f7a9362da0021d02ae0d98'), 'blockNumber': 11023728, 'contractAddress': None, 'cumulativeGasUsed': 30021, 'effectiveGasPrice': 200000000000, 'from': '0xDD68f5fF62682582496836929cDf299258835b45', 'gasUsed': 30021, 'logs': [], 'logsBloom': HexBytes('0x00000000000000000000000000000000000000000000000000000000000000000000000000000000000000000000000000000000000000000000000000000000000000000000000000000000000000000000000000000000000000000000000000000000000000000000000000000000000000000000000000000000000000000000000000000000000000000000000000000000000000000000000000000000000000000000000000000000000000000000000000000000000000000000000000000000000000000000000000000000000000000000000000000000000000000000000000000000000000000000000000000000000000000000000000000000'), 'status': 0, 'to': '0x81dD948eB6D59d7A7d7b628E4f2A4C1b59570d94', 'transactionHash': HexBytes('0xc47785e79d80f3ced1f1b0ee267320086acc5541a1c64b5c04d273ffe17f1012'), 'transactionIndex': 0, 'type': '0x0'})\n"
     ]
    }
   ],
   "source": [
    "# Changing Owner\n",
    "# Create a nonce\n",
    "nonce = w3.eth.get_transaction_count(account1)\n",
    "\n",
    "# Create a Transaction\n",
    "sender= sample_account\n",
    "tx = contract.functions.transferFrom(sender, owner ,50 ).buildTransaction({\n",
    "        'from' : account1,\n",
    "        'nonce' : nonce,\n",
    "        'gas' : 3000000,\n",
    "        'gasPrice' : w3.toWei(200, 'gwei'),\n",
    "})\n",
    "\n",
    "# Sign Transaction\n",
    "signed_tx = w3.eth.account.sign_transaction(tx, private_key)\n",
    "\n",
    "\n",
    "# Send Raw Transaction\n",
    "tx_hash = w3.toHex(w3.eth.send_raw_transaction(signed_tx.rawTransaction))\n",
    "print(tx_hash)\n",
    "tx_receipt = w3.eth.wait_for_transaction_receipt(tx_hash)\n",
    "print(tx_receipt)\n"
   ]
  },
  {
   "cell_type": "code",
   "execution_count": 53,
   "metadata": {},
   "outputs": [
    {
     "name": "stdout",
     "output_type": "stream",
     "text": [
      "Transfered sample_account Balance : 1500\n",
      "Owners Balance :500\n"
     ]
    }
   ],
   "source": [
    "# Checking if transfer from function worked or not\n",
    "ownerBalance = contract.functions.balanceOf(owner).call()\n",
    "toBalance = contract.functions.balanceOf(sample_account).call()\n",
    "print(\"Transfered sample_account Balance : \"+str(toBalance))\n",
    "print(\"Owners Balance :\"+ str(ownerBalance))"
   ]
  },
  {
   "cell_type": "code",
   "execution_count": 44,
   "metadata": {},
   "outputs": [
    {
     "name": "stdout",
     "output_type": "stream",
     "text": [
      "0xfd9da402428f842e64ac977a63fcb109d2d8994e3b71aa643034de2a9d1a3776\n",
      "AttributeDict({'blockHash': HexBytes('0x05548cd47c4017176cf1eef42a14d4e769866d5da2f9655ed49cf63c89c01387'), 'blockNumber': 11023733, 'contractAddress': None, 'cumulativeGasUsed': 30164, 'effectiveGasPrice': 200000000000, 'from': '0xDD68f5fF62682582496836929cDf299258835b45', 'gasUsed': 30164, 'logs': [AttributeDict({'address': '0x81dD948eB6D59d7A7d7b628E4f2A4C1b59570d94', 'blockHash': HexBytes('0x05548cd47c4017176cf1eef42a14d4e769866d5da2f9655ed49cf63c89c01387'), 'blockNumber': 11023733, 'data': '0x00000000000000000000000000000000000000000000000000000000000000c8', 'logIndex': 0, 'removed': False, 'topics': [HexBytes('0x8c5be1e5ebec7d5bd14f71427d1e84f3dd0314c0f7b2291e5b200ac8c7c3b925'), HexBytes('0x000000000000000000000000dd68f5ff62682582496836929cdf299258835b45'), HexBytes('0x000000000000000000000000ceb0643f09ca9a74c0f49f3cfedbebaf0e003168')], 'transactionHash': HexBytes('0xfd9da402428f842e64ac977a63fcb109d2d8994e3b71aa643034de2a9d1a3776'), 'transactionIndex': 0})], 'logsBloom': HexBytes('0x00000000000000000000000000000000000000000000000000000000000000000000000000000000000000000010000000000000000000000000000000200000000000000000000200000000000000000000000000000000000000000002000000000000000800000004000000000000000000000000000000000000000000000000000000000008000000000000000000000040000000000000000000000000020000000000000000000000000000000000000000000000002000000000000000000000000000000000000000000000004000000000000000000000000000000010000000000000000000000000000000000000000000000000000000000000'), 'status': 1, 'to': '0x81dD948eB6D59d7A7d7b628E4f2A4C1b59570d94', 'transactionHash': HexBytes('0xfd9da402428f842e64ac977a63fcb109d2d8994e3b71aa643034de2a9d1a3776'), 'transactionIndex': 0, 'type': '0x0'})\n"
     ]
    }
   ],
   "source": [
    "# Decreasing allowance for a account\n",
    "\n",
    "# Create a nonce\n",
    "nonce = w3.eth.get_transaction_count(account1)\n",
    "\n",
    "# Create a Transaction\n",
    "to= '0xcEb0643f09cA9a74C0F49F3cFEdbeBAf0E003168'\n",
    "tx = contract.functions.decreaseAllowance(sample_account, 50).buildTransaction({\n",
    "        'from' : account1,\n",
    "        'nonce' : nonce,\n",
    "        'gas' : 3000000,\n",
    "        'gasPrice' : w3.toWei(200, 'gwei'),\n",
    "})\n",
    "\n",
    "# Sign Transaction\n",
    "signed_tx = w3.eth.account.sign_transaction(tx, private_key)\n",
    "\n",
    "\n",
    "# Send Raw Transaction\n",
    "tx_hash = w3.toHex(w3.eth.send_raw_transaction(signed_tx.rawTransaction))\n",
    "print(tx_hash)\n",
    "tx_receipt = w3.eth.wait_for_transaction_receipt(tx_hash)\n",
    "print(tx_receipt)\n"
   ]
  },
  {
   "cell_type": "code",
   "execution_count": 45,
   "metadata": {},
   "outputs": [
    {
     "data": {
      "text/plain": [
       "200"
      ]
     },
     "execution_count": 45,
     "metadata": {},
     "output_type": "execute_result"
    }
   ],
   "source": [
    "# Checking for to allowance after decreasing\n",
    "toAllowance = contract.functions.allowance(owner, sample_account).call()\n",
    "toAllowance"
   ]
  },
  {
   "cell_type": "code",
   "execution_count": 46,
   "metadata": {},
   "outputs": [
    {
     "name": "stdout",
     "output_type": "stream",
     "text": [
      "0xf7442cf8a2bad76be5969f9d7d1c3521a27ff92e9fc59513321b63c363263480\n",
      "AttributeDict({'blockHash': HexBytes('0x6b541c419b5e656aa40d65b5f120b4e2c1b409fe56de61636ee14536329157b3'), 'blockNumber': 11023734, 'contractAddress': None, 'cumulativeGasUsed': 30175, 'effectiveGasPrice': 200000000000, 'from': '0xDD68f5fF62682582496836929cDf299258835b45', 'gasUsed': 30175, 'logs': [AttributeDict({'address': '0x81dD948eB6D59d7A7d7b628E4f2A4C1b59570d94', 'blockHash': HexBytes('0x6b541c419b5e656aa40d65b5f120b4e2c1b409fe56de61636ee14536329157b3'), 'blockNumber': 11023734, 'data': '0x000000000000000000000000000000000000000000000000000000000000012c', 'logIndex': 0, 'removed': False, 'topics': [HexBytes('0x8c5be1e5ebec7d5bd14f71427d1e84f3dd0314c0f7b2291e5b200ac8c7c3b925'), HexBytes('0x000000000000000000000000dd68f5ff62682582496836929cdf299258835b45'), HexBytes('0x000000000000000000000000ceb0643f09ca9a74c0f49f3cfedbebaf0e003168')], 'transactionHash': HexBytes('0xf7442cf8a2bad76be5969f9d7d1c3521a27ff92e9fc59513321b63c363263480'), 'transactionIndex': 0})], 'logsBloom': HexBytes('0x00000000000000000000000000000000000000000000000000000000000000000000000000000000000000000010000000000000000000000000000000200000000000000000000200000000000000000000000000000000000000000002000000000000000800000004000000000000000000000000000000000000000000000000000000000008000000000000000000000040000000000000000000000000020000000000000000000000000000000000000000000000002000000000000000000000000000000000000000000000004000000000000000000000000000000010000000000000000000000000000000000000000000000000000000000000'), 'status': 1, 'to': '0x81dD948eB6D59d7A7d7b628E4f2A4C1b59570d94', 'transactionHash': HexBytes('0xf7442cf8a2bad76be5969f9d7d1c3521a27ff92e9fc59513321b63c363263480'), 'transactionIndex': 0, 'type': '0x0'})\n"
     ]
    }
   ],
   "source": [
    "# Increasing allowance for a account\n",
    "\n",
    "# Create a nonce\n",
    "nonce = w3.eth.get_transaction_count(account1)\n",
    "\n",
    "# Create a Transaction\n",
    "tx = contract.functions.increaseAllowance(sample_account, 100).buildTransaction({\n",
    "        'from' : account1,\n",
    "        'nonce' : nonce,\n",
    "        'gas' : 3000000,\n",
    "        'gasPrice' : w3.toWei(200, 'gwei'),\n",
    "})\n",
    "\n",
    "# Sign Transaction\n",
    "signed_tx = w3.eth.account.sign_transaction(tx, private_key)\n",
    "\n",
    "\n",
    "# Send Raw Transaction\n",
    "tx_hash = w3.toHex(w3.eth.send_raw_transaction(signed_tx.rawTransaction))\n",
    "print(tx_hash)\n",
    "tx_receipt = w3.eth.wait_for_transaction_receipt(tx_hash)\n",
    "print(tx_receipt)\n"
   ]
  },
  {
   "cell_type": "code",
   "execution_count": 47,
   "metadata": {},
   "outputs": [
    {
     "data": {
      "text/plain": [
       "300"
      ]
     },
     "execution_count": 47,
     "metadata": {},
     "output_type": "execute_result"
    }
   ],
   "source": [
    "# Checking for to allowance after increasing\n",
    "toAllowance = contract.functions.allowance(owner, sample_account).call()\n",
    "toAllowance"
   ]
  },
  {
   "cell_type": "code",
   "execution_count": 48,
   "metadata": {},
   "outputs": [
    {
     "name": "stdout",
     "output_type": "stream",
     "text": [
      "0x35d625e4435dfab33d9dc218e99331b4ca739a31e983dc39861a28767196eff1\n",
      "AttributeDict({'blockHash': HexBytes('0x88b05663af870036c65bfabb726f1354370511e007ba5a0d38b6522442e2da9b'), 'blockNumber': 11023735, 'contractAddress': None, 'cumulativeGasUsed': 28818, 'effectiveGasPrice': 200000000000, 'from': '0xDD68f5fF62682582496836929cDf299258835b45', 'gasUsed': 28818, 'logs': [], 'logsBloom': HexBytes('0x00000000000000000000000000000000000000000000000000000000000000000000000000000000000000000000000000000000000000000000000000000000000000000000000000000000000000000000000000000000000000000000000000000000000000000000000000000000000000000000000000000000000000000000000000000000000000000000000000000000000000000000000000000000000000000000000000000000000000000000000000000000000000000000000000000000000000000000000000000000000000000000000000000000000000000000000000000000000000000000000000000000000000000000000000000000'), 'status': 0, 'to': '0x81dD948eB6D59d7A7d7b628E4f2A4C1b59570d94', 'transactionHash': HexBytes('0x35d625e4435dfab33d9dc218e99331b4ca739a31e983dc39861a28767196eff1'), 'transactionIndex': 0, 'type': '0x0'})\n"
     ]
    }
   ],
   "source": [
    "#Burning token\n",
    "# Create a nonce\n",
    "nonce = w3.eth.get_transaction_count(account1)\n",
    "\n",
    "# Create a Transaction\n",
    "tx = contract.functions.burn(owner, 75).buildTransaction({\n",
    "        'from' : account1,\n",
    "        'nonce' : nonce,\n",
    "        'gas' : 3000000,\n",
    "        'gasPrice' : w3.toWei(200, 'gwei'),\n",
    "})\n",
    "\n",
    "# Sign Transaction\n",
    "signed_tx = w3.eth.account.sign_transaction(tx, private_key)\n",
    "\n",
    "\n",
    "# Send Raw Transaction\n",
    "tx_hash = w3.toHex(w3.eth.send_raw_transaction(signed_tx.rawTransaction))\n",
    "print(tx_hash)\n",
    "tx_receipt = w3.eth.wait_for_transaction_receipt(tx_hash)\n",
    "print(tx_receipt)\n"
   ]
  },
  {
   "cell_type": "code",
   "execution_count": 54,
   "metadata": {},
   "outputs": [
    {
     "data": {
      "text/plain": [
       "500"
      ]
     },
     "execution_count": 54,
     "metadata": {},
     "output_type": "execute_result"
    }
   ],
   "source": [
    "# Checking for Burned tokens\n",
    "ownerBalance = contract.functions.balanceOf(owner).call()\n",
    "ownerBalance"
   ]
  },
  {
   "cell_type": "code",
   "execution_count": 55,
   "metadata": {},
   "outputs": [
    {
     "name": "stdout",
     "output_type": "stream",
     "text": [
      "0xe61253818e2fb62ff8696c168338e44ceddc5981aefdf48c8c236859d6943470\n",
      "AttributeDict({'blockHash': HexBytes('0xbdc24afecb6421eed15a7cf4389c4e51dc71d91f077f80f5c41279e4b09ce096'), 'blockNumber': 11023742, 'contractAddress': None, 'cumulativeGasUsed': 70424, 'effectiveGasPrice': 200000000000, 'from': '0xDD68f5fF62682582496836929cDf299258835b45', 'gasUsed': 70424, 'logs': [AttributeDict({'address': '0x81dD948eB6D59d7A7d7b628E4f2A4C1b59570d94', 'blockHash': HexBytes('0xbdc24afecb6421eed15a7cf4389c4e51dc71d91f077f80f5c41279e4b09ce096'), 'blockNumber': 11023742, 'data': '0x000000000000000000000000000000000000000000000000000000000000000a0000000000000000000000000000000000000000000000000000000000000028', 'logIndex': 0, 'removed': False, 'topics': [HexBytes('0x874970ce3f1d0183e40301b34e50be9e3ff6e5b6d01ecf2e3283ce6c26170b97')], 'transactionHash': HexBytes('0xe61253818e2fb62ff8696c168338e44ceddc5981aefdf48c8c236859d6943470'), 'transactionIndex': 0})], 'logsBloom': HexBytes('0x00000000000400000000000000000000000000000000000000000000000000000000000000000000000000000010000000000000000000000000000000000000000000000000000000000000000000000000000000000000000000000000000000000000000000000000000000000000000000000000000000000000000000000000000000000008000000000000000000000040000000000000000000000000000000000000000000000000000000000000000000000000000000000000000000000000000000000000000000000000000000000000000000000000000000000000200000000000000000000000000001000000000000000000000000000000'), 'status': 1, 'to': '0x81dD948eB6D59d7A7d7b628E4f2A4C1b59570d94', 'transactionHash': HexBytes('0xe61253818e2fb62ff8696c168338e44ceddc5981aefdf48c8c236859d6943470'), 'transactionIndex': 0, 'type': '0x0'})\n"
     ]
    }
   ],
   "source": [
    "# Changing the parameters\n",
    "newBasisPoints=10\n",
    "maxFees= 40\n",
    "# Create a nonce\n",
    "nonce = w3.eth.get_transaction_count(account1)\n",
    "\n",
    "# Create a Transaction\n",
    "tx = contract.functions.setParams(newBasisPoints,maxFees).buildTransaction({\n",
    "        'from' : account1,\n",
    "        'nonce' : nonce,\n",
    "        'gas' : 3000000,\n",
    "        'gasPrice' : w3.toWei(200, 'gwei'),\n",
    "})\n",
    "\n",
    "# Sign Transaction\n",
    "signed_tx = w3.eth.account.sign_transaction(tx, private_key)\n",
    "\n",
    "\n",
    "# Send Raw Transaction\n",
    "tx_hash = w3.toHex(w3.eth.send_raw_transaction(signed_tx.rawTransaction))\n",
    "print(tx_hash)\n",
    "tx_receipt = w3.eth.wait_for_transaction_receipt(tx_hash)\n",
    "print(tx_receipt)\n"
   ]
  },
  {
   "cell_type": "code",
   "execution_count": 56,
   "metadata": {},
   "outputs": [
    {
     "name": "stdout",
     "output_type": "stream",
     "text": [
      "10\n",
      "40\n"
     ]
    }
   ],
   "source": [
    "# Checking for parameters changed\n",
    "print(contract.functions.basisPointsRate().call())\n",
    "print(contract.functions.maximumFee().call())"
   ]
  },
  {
   "cell_type": "code",
   "execution_count": null,
   "metadata": {},
   "outputs": [],
   "source": [
    "# Pausable Functions Calls "
   ]
  },
  {
   "cell_type": "code",
   "execution_count": 57,
   "metadata": {},
   "outputs": [
    {
     "name": "stdout",
     "output_type": "stream",
     "text": [
      "0x1c301461cc15d110c0e31a6b0ea3c0ba767766826c1dc727c31cf0bb438e3a70\n",
      "AttributeDict({'blockHash': HexBytes('0x8a99dbf0a54c9c4c9c5ba2c55de1285946ae88329c4177868179f9953528134c'), 'blockNumber': 11023744, 'contractAddress': None, 'cumulativeGasUsed': 29520, 'effectiveGasPrice': 200000000000, 'from': '0xDD68f5fF62682582496836929cDf299258835b45', 'gasUsed': 29520, 'logs': [AttributeDict({'address': '0x81dD948eB6D59d7A7d7b628E4f2A4C1b59570d94', 'blockHash': HexBytes('0x8a99dbf0a54c9c4c9c5ba2c55de1285946ae88329c4177868179f9953528134c'), 'blockNumber': 11023744, 'data': '0x', 'logIndex': 0, 'removed': False, 'topics': [HexBytes('0x6985a02210a168e66602d3235cb6db0e70f92b3ba4d376a33c0f3d9434bff625')], 'transactionHash': HexBytes('0x1c301461cc15d110c0e31a6b0ea3c0ba767766826c1dc727c31cf0bb438e3a70'), 'transactionIndex': 0})], 'logsBloom': HexBytes('0x00000000000000000000000000000000000000000000000000000000000000400000000000000000000000000010000000000000000000000000000000000000000000000000000000000000000000000000000000000000000000000000000000000000000000000000000000000000000000000400000000000000000000000000000000000008000000000000000000000040000000000000000000000000000000000000000000000000000000000000000000000000000000000000000000000000000000000000000000000000000800000000000000000000000000000000000000000000000000000000000000000000000000000000000000000000'), 'status': 1, 'to': '0x81dD948eB6D59d7A7d7b628E4f2A4C1b59570d94', 'transactionHash': HexBytes('0x1c301461cc15d110c0e31a6b0ea3c0ba767766826c1dc727c31cf0bb438e3a70'), 'transactionIndex': 0, 'type': '0x0'})\n"
     ]
    }
   ],
   "source": [
    "# Changing Owner\n",
    "# Create a nonce\n",
    "nonce = w3.eth.get_transaction_count(account1)\n",
    "\n",
    "# Create a Transaction\n",
    "tx = contract.functions.pause().buildTransaction({\n",
    "        'from' : account1,\n",
    "        'nonce' : nonce,\n",
    "        'gas' : 3000000,\n",
    "        'gasPrice' : w3.toWei(200, 'gwei'),\n",
    "})\n",
    "\n",
    "# Sign Transaction\n",
    "signed_tx = w3.eth.account.sign_transaction(tx, private_key)\n",
    "\n",
    "\n",
    "# Send Raw Transaction\n",
    "tx_hash = w3.toHex(w3.eth.send_raw_transaction(signed_tx.rawTransaction))\n",
    "print(tx_hash)\n",
    "tx_receipt = w3.eth.wait_for_transaction_receipt(tx_hash)\n",
    "print(tx_receipt)\n",
    "\n"
   ]
  },
  {
   "cell_type": "code",
   "execution_count": 58,
   "metadata": {},
   "outputs": [
    {
     "name": "stdout",
     "output_type": "stream",
     "text": [
      "True\n"
     ]
    }
   ],
   "source": [
    "# Checking if token Contract is paused or not\n",
    "print(contract.functions.paused().call())"
   ]
  },
  {
   "cell_type": "code",
   "execution_count": 59,
   "metadata": {},
   "outputs": [
    {
     "name": "stdout",
     "output_type": "stream",
     "text": [
      "0xebbb863ddd95b32ee255790c89dfc537283a07d80c5041f42e6902e2546d0bd6\n",
      "AttributeDict({'blockHash': HexBytes('0x5dade19dc059deb17c1b62c414edf0b29200512bcca84959e4a14b2ca80cc29a'), 'blockNumber': 11023746, 'contractAddress': None, 'cumulativeGasUsed': 29583, 'effectiveGasPrice': 200000000000, 'from': '0xDD68f5fF62682582496836929cDf299258835b45', 'gasUsed': 29583, 'logs': [AttributeDict({'address': '0x81dD948eB6D59d7A7d7b628E4f2A4C1b59570d94', 'blockHash': HexBytes('0x5dade19dc059deb17c1b62c414edf0b29200512bcca84959e4a14b2ca80cc29a'), 'blockNumber': 11023746, 'data': '0x', 'logIndex': 0, 'removed': False, 'topics': [HexBytes('0x7805862f689e2f13df9f062ff482ad3ad112aca9e0847911ed832e158c525b33')], 'transactionHash': HexBytes('0xebbb863ddd95b32ee255790c89dfc537283a07d80c5041f42e6902e2546d0bd6'), 'transactionIndex': 0})], 'logsBloom': HexBytes('0x00000000000000000000000000000000000000000000000000000000000000000000000000000000000000000010000000000000000000000000000000000000000000000000000010000000000000000000000000000000000000000000000000000000000000000000000000000000000000000000000400000000000000000000000000000008000000000400000000000040000000000000000000000000000000000000000000000000000000000000000000000000000000000000000000000000000000000000000000000000000000000000000000000000000000000000000000000000000000000000000000000000000000000000000000000000'), 'status': 1, 'to': '0x81dD948eB6D59d7A7d7b628E4f2A4C1b59570d94', 'transactionHash': HexBytes('0xebbb863ddd95b32ee255790c89dfc537283a07d80c5041f42e6902e2546d0bd6'), 'transactionIndex': 0, 'type': '0x0'})\n"
     ]
    }
   ],
   "source": [
    "# Changing Owner\n",
    "# Create a nonce\n",
    "nonce = w3.eth.get_transaction_count(account1)\n",
    "\n",
    "# Create a Transaction\n",
    "sender= to\n",
    "tx = contract.functions.unpause().buildTransaction({\n",
    "        'from' : account1,\n",
    "        'nonce' : nonce,\n",
    "        'gas' : 3000000,\n",
    "        'gasPrice' : w3.toWei(200, 'gwei'),\n",
    "})\n",
    "\n",
    "# Sign Transaction\n",
    "signed_tx = w3.eth.account.sign_transaction(tx, private_key)\n",
    "\n",
    "\n",
    "# Send Raw Transaction\n",
    "tx_hash = w3.toHex(w3.eth.send_raw_transaction(signed_tx.rawTransaction))\n",
    "print(tx_hash)\n",
    "tx_receipt = w3.eth.wait_for_transaction_receipt(tx_hash)\n",
    "print(tx_receipt)"
   ]
  },
  {
   "cell_type": "code",
   "execution_count": 60,
   "metadata": {},
   "outputs": [
    {
     "name": "stdout",
     "output_type": "stream",
     "text": [
      "False\n"
     ]
    }
   ],
   "source": [
    "# Checking if token Contract is paused or not\n",
    "print(contract.functions.paused().call())"
   ]
  },
  {
   "cell_type": "code",
   "execution_count": null,
   "metadata": {},
   "outputs": [],
   "source": []
  },
  {
   "cell_type": "code",
   "execution_count": null,
   "metadata": {},
   "outputs": [],
   "source": [
    "# Blacklist Functions Calls "
   ]
  },
  {
   "cell_type": "code",
   "execution_count": 63,
   "metadata": {},
   "outputs": [
    {
     "name": "stdout",
     "output_type": "stream",
     "text": [
      "False\n"
     ]
    }
   ],
   "source": [
    "print(contract.functions.getBlackListStatus(sample_account).call())\n"
   ]
  },
  {
   "cell_type": "code",
   "execution_count": 64,
   "metadata": {},
   "outputs": [
    {
     "name": "stdout",
     "output_type": "stream",
     "text": [
      "0x79e1671ef1b9661e394595eb3fef7a6a9f8721dac995ac14d5ee3941786022d3\n",
      "AttributeDict({'blockHash': HexBytes('0x1884e2fa95305414b2eb6fdbd0371d37be9f809c92e3ce854d4f771b10f21933'), 'blockNumber': 11023764, 'contractAddress': None, 'cumulativeGasUsed': 47528, 'effectiveGasPrice': 200000000000, 'from': '0xDD68f5fF62682582496836929cDf299258835b45', 'gasUsed': 47528, 'logs': [AttributeDict({'address': '0x81dD948eB6D59d7A7d7b628E4f2A4C1b59570d94', 'blockHash': HexBytes('0x1884e2fa95305414b2eb6fdbd0371d37be9f809c92e3ce854d4f771b10f21933'), 'blockNumber': 11023764, 'data': '0x', 'logIndex': 0, 'removed': False, 'topics': [HexBytes('0x42e160154868087d6bfdc0ca23d96a1c1cfa32f1b72ba9ba27b69b98a0d819dc'), HexBytes('0x000000000000000000000000ceb0643f09ca9a74c0f49f3cfedbebaf0e003168')], 'transactionHash': HexBytes('0x79e1671ef1b9661e394595eb3fef7a6a9f8721dac995ac14d5ee3941786022d3'), 'transactionIndex': 0})], 'logsBloom': HexBytes('0x00000000000000000000000000080000000000000000000000000000000000000000000000000000000000000010000000000000008000000000000000000000000000000000000000000000000000000000000000000000000000000000000000000000000800000000000000000000020000000000000000000000000000000000000000000008000000000000000000000040000000000000000000000000000000000000000000000000000000000000000000000000002000000000000000000000000000000000000000000000004000000000000000000000000000000000000000000000000000000000000000000000000000000000000000000000'), 'status': 1, 'to': '0x81dD948eB6D59d7A7d7b628E4f2A4C1b59570d94', 'transactionHash': HexBytes('0x79e1671ef1b9661e394595eb3fef7a6a9f8721dac995ac14d5ee3941786022d3'), 'transactionIndex': 0, 'type': '0x0'})\n"
     ]
    }
   ],
   "source": [
    "# Changing Owner\n",
    "# Create a nonce\n",
    "nonce = w3.eth.get_transaction_count(account1)\n",
    "\n",
    "# Create a Transaction\n",
    "tx = contract.functions.addBlackList(sample_account).buildTransaction({\n",
    "        'from' : account1,\n",
    "        'nonce' : nonce,\n",
    "        'gas' : 3000000,\n",
    "        'gasPrice' : w3.toWei(200, 'gwei'),\n",
    "})\n",
    "\n",
    "# Sign Transaction\n",
    "signed_tx = w3.eth.account.sign_transaction(tx, private_key)\n",
    "\n",
    "\n",
    "# Send Raw Transaction\n",
    "tx_hash = w3.toHex(w3.eth.send_raw_transaction(signed_tx.rawTransaction))\n",
    "print(tx_hash)\n",
    "tx_receipt = w3.eth.wait_for_transaction_receipt(tx_hash)\n",
    "print(tx_receipt)\n"
   ]
  },
  {
   "cell_type": "code",
   "execution_count": 65,
   "metadata": {},
   "outputs": [
    {
     "name": "stdout",
     "output_type": "stream",
     "text": [
      "True\n"
     ]
    }
   ],
   "source": [
    "# Checking if sample_account is added on blacklist or not\n",
    "print(contract.functions.getBlackListStatus(sample_account).call())"
   ]
  },
  {
   "cell_type": "code",
   "execution_count": 66,
   "metadata": {},
   "outputs": [
    {
     "name": "stdout",
     "output_type": "stream",
     "text": [
      "0x51bbb615330d4a40d58581e7bec9f916add098dfb497c49262d5073a9885e272\n",
      "AttributeDict({'blockHash': HexBytes('0x5195b787e42271c5d5b6e9d2e3a23aa85dcbea4ea26c5dd99da9c4e432f9c23c'), 'blockNumber': 11023768, 'contractAddress': None, 'cumulativeGasUsed': 33635, 'effectiveGasPrice': 200000000000, 'from': '0xDD68f5fF62682582496836929cDf299258835b45', 'gasUsed': 33635, 'logs': [AttributeDict({'address': '0x81dD948eB6D59d7A7d7b628E4f2A4C1b59570d94', 'blockHash': HexBytes('0x5195b787e42271c5d5b6e9d2e3a23aa85dcbea4ea26c5dd99da9c4e432f9c23c'), 'blockNumber': 11023768, 'data': '0x00000000000000000000000000000000000000000000000000000000000005dc', 'logIndex': 0, 'removed': False, 'topics': [HexBytes('0x61e6e66b0d6339b2980aecc6ccc0039736791f0ccde9ed512e789a7fbdd698c6'), HexBytes('0x000000000000000000000000ceb0643f09ca9a74c0f49f3cfedbebaf0e003168')], 'transactionHash': HexBytes('0x51bbb615330d4a40d58581e7bec9f916add098dfb497c49262d5073a9885e272'), 'transactionIndex': 0})], 'logsBloom': HexBytes('0x00000000000000000000000000000000000000000000000000000000000000000000000000000000000000000010000000000000000000000000000000000000000000000000000000000000000000000000000000000000000000000000000000000000000800000000000000000000000000000000000000000000000000000000000000000008000000000000000000000040000000000000000000000000000000000000020000000004000000000000000000000000002000000000000000000000000000000000000000000000004000000000000000000000000000000000100000000000000000000000000000000000000000000000000000000000'), 'status': 1, 'to': '0x81dD948eB6D59d7A7d7b628E4f2A4C1b59570d94', 'transactionHash': HexBytes('0x51bbb615330d4a40d58581e7bec9f916add098dfb497c49262d5073a9885e272'), 'transactionIndex': 0, 'type': '0x0'})\n"
     ]
    }
   ],
   "source": [
    "# Changing Owner\n",
    "# Create a nonce\n",
    "nonce = w3.eth.get_transaction_count(account1)\n",
    "\n",
    "# Create a Transaction\n",
    "tx = contract.functions.destroyBlackFunds(sample_account).buildTransaction({\n",
    "        'from' : account1,\n",
    "        'nonce' : nonce,\n",
    "        'gas' : 3000000,\n",
    "        'gasPrice' : w3.toWei(200, 'gwei'),\n",
    "})\n",
    "\n",
    "# Sign Transaction\n",
    "signed_tx = w3.eth.account.sign_transaction(tx, private_key)\n",
    "\n",
    "\n",
    "# Send Raw Transaction\n",
    "tx_hash = w3.toHex(w3.eth.send_raw_transaction(signed_tx.rawTransaction))\n",
    "print(tx_hash)\n",
    "tx_receipt = w3.eth.wait_for_transaction_receipt(tx_hash)\n",
    "print(tx_receipt)"
   ]
  },
  {
   "cell_type": "code",
   "execution_count": 67,
   "metadata": {},
   "outputs": [
    {
     "name": "stdout",
     "output_type": "stream",
     "text": [
      "0\n"
     ]
    }
   ],
   "source": [
    "# Checking if sample_account's funds destroyed or not\n",
    "print(contract.functions.balanceOf(sample_account).call())"
   ]
  },
  {
   "cell_type": "code",
   "execution_count": 68,
   "metadata": {},
   "outputs": [
    {
     "name": "stdout",
     "output_type": "stream",
     "text": [
      "0x1b2ebdc4982e26b1b3258267b25266ed0a041f7264f41b22df4a508e3c4f75b1\n",
      "AttributeDict({'blockHash': HexBytes('0xabcde045a2db5a789b25ba82604159391ffa47327cb3f39751daaa80eeafe83c'), 'blockNumber': 11023771, 'contractAddress': None, 'cumulativeGasUsed': 25648, 'effectiveGasPrice': 200000000000, 'from': '0xDD68f5fF62682582496836929cDf299258835b45', 'gasUsed': 25648, 'logs': [AttributeDict({'address': '0x81dD948eB6D59d7A7d7b628E4f2A4C1b59570d94', 'blockHash': HexBytes('0xabcde045a2db5a789b25ba82604159391ffa47327cb3f39751daaa80eeafe83c'), 'blockNumber': 11023771, 'data': '0x', 'logIndex': 0, 'removed': False, 'topics': [HexBytes('0xd7e9ec6e6ecd65492dce6bf513cd6867560d49544421d0783ddf06e76c24470c'), HexBytes('0x000000000000000000000000ceb0643f09ca9a74c0f49f3cfedbebaf0e003168')], 'transactionHash': HexBytes('0x1b2ebdc4982e26b1b3258267b25266ed0a041f7264f41b22df4a508e3c4f75b1'), 'transactionIndex': 0})], 'logsBloom': HexBytes('0x00000000000000000000000000000000000000000000000000000000000000000000000000000000000000000010000000000000000000000000000000000000000000200000000000000000000000000000000000000000000000000000000000000000000800000000000000000000000000000000000000000000000000000000000000001008000000000000000000000040000000000400000000000000000000000000000000000000000000000000000000000000002000000000000000000000000000000000000000000000004000000000000000000000000000000000000000000000000000000000000000000000000000000000000000000000'), 'status': 1, 'to': '0x81dD948eB6D59d7A7d7b628E4f2A4C1b59570d94', 'transactionHash': HexBytes('0x1b2ebdc4982e26b1b3258267b25266ed0a041f7264f41b22df4a508e3c4f75b1'), 'transactionIndex': 0, 'type': '0x0'})\n"
     ]
    }
   ],
   "source": [
    "# Changing Owner\n",
    "# Create a nonce\n",
    "nonce = w3.eth.get_transaction_count(account1)\n",
    "\n",
    "# Create a Transaction\n",
    "tx = contract.functions.removeBlackList(sample_account).buildTransaction({\n",
    "        'from' : account1,\n",
    "        'nonce' : nonce,\n",
    "        'gas' : 3000000,\n",
    "        'gasPrice' : w3.toWei(200, 'gwei'),\n",
    "})\n",
    "\n",
    "# Sign Transaction\n",
    "signed_tx = w3.eth.account.sign_transaction(tx, private_key)\n",
    "\n",
    "\n",
    "# Send Raw Transaction\n",
    "tx_hash = w3.toHex(w3.eth.send_raw_transaction(signed_tx.rawTransaction))\n",
    "print(tx_hash)\n",
    "tx_receipt = w3.eth.wait_for_transaction_receipt(tx_hash)\n",
    "print(tx_receipt)"
   ]
  },
  {
   "cell_type": "code",
   "execution_count": 69,
   "metadata": {},
   "outputs": [
    {
     "name": "stdout",
     "output_type": "stream",
     "text": [
      "False\n"
     ]
    }
   ],
   "source": [
    "# Checking if sample_account is removed from blacklist or not\n",
    "print(contract.functions.getBlackListStatus(sample_account).call())"
   ]
  },
  {
   "cell_type": "code",
   "execution_count": null,
   "metadata": {},
   "outputs": [],
   "source": []
  },
  {
   "cell_type": "code",
   "execution_count": null,
   "metadata": {},
   "outputs": [],
   "source": [
    "# Ownable Functions Calls "
   ]
  },
  {
   "cell_type": "code",
   "execution_count": 61,
   "metadata": {},
   "outputs": [
    {
     "name": "stdout",
     "output_type": "stream",
     "text": [
      "0x40c75322230bd99edc4b9a3bfef092bebf877e49f4d2d74d64ede93b628adba0\n",
      "AttributeDict({'blockHash': HexBytes('0xc7c27d591ba8039153d542dd9acedee3ae341cdb9693f4ce733d423f5dbd08de'), 'blockNumber': 11023747, 'contractAddress': None, 'cumulativeGasUsed': 30518, 'effectiveGasPrice': 200000000000, 'from': '0xDD68f5fF62682582496836929cDf299258835b45', 'gasUsed': 30518, 'logs': [AttributeDict({'address': '0x81dD948eB6D59d7A7d7b628E4f2A4C1b59570d94', 'blockHash': HexBytes('0xc7c27d591ba8039153d542dd9acedee3ae341cdb9693f4ce733d423f5dbd08de'), 'blockNumber': 11023747, 'data': '0x', 'logIndex': 0, 'removed': False, 'topics': [HexBytes('0xb6b8f1859c5c352e5ffad07d0f77e384ac725512c015bd3a3ffc885831c8a425'), HexBytes('0x000000000000000000000000ceb0643f09ca9a74c0f49f3cfedbebaf0e003168')], 'transactionHash': HexBytes('0x40c75322230bd99edc4b9a3bfef092bebf877e49f4d2d74d64ede93b628adba0'), 'transactionIndex': 0})], 'logsBloom': HexBytes('0x00000000010000000000000000000000008000000000000000000000000000000000000000000020000000000010000000000000000000000000000000000000000000000000000000000000000000000000000000000000000000000000000000000000000800000000000000000000000000000000000000000000000000000000000000000008000000000000000000000040000000000000000000000000000000000000000000000000000000000000000000000000002000000000000000000000000000000000000000000000004000000000000000000000000000000000000000000000000000000000000000000000000000000000000000000000'), 'status': 1, 'to': '0x81dD948eB6D59d7A7d7b628E4f2A4C1b59570d94', 'transactionHash': HexBytes('0x40c75322230bd99edc4b9a3bfef092bebf877e49f4d2d74d64ede93b628adba0'), 'transactionIndex': 0, 'type': '0x0'})\n"
     ]
    }
   ],
   "source": [
    "# Changing Owner\n",
    "# Create a nonce\n",
    "nonce = w3.eth.get_transaction_count(account1)\n",
    "\n",
    "# Create a Transaction\n",
    "newMinter=sample_account\n",
    "tx = contract.functions.changeMinter(newMinter).buildTransaction({\n",
    "        'from' : account1,\n",
    "        'nonce' : nonce,\n",
    "        'gas' : 3000000,\n",
    "        'gasPrice' : w3.toWei(200, 'gwei'),\n",
    "})\n",
    "\n",
    "# Sign Transaction\n",
    "signed_tx = w3.eth.account.sign_transaction(tx, private_key)\n",
    "\n",
    "\n",
    "# Send Raw Transaction\n",
    "tx_hash = w3.toHex(w3.eth.send_raw_transaction(signed_tx.rawTransaction))\n",
    "print(tx_hash)\n",
    "tx_receipt = w3.eth.wait_for_transaction_receipt(tx_hash)\n",
    "print(tx_receipt)"
   ]
  },
  {
   "cell_type": "code",
   "execution_count": 62,
   "metadata": {},
   "outputs": [
    {
     "name": "stdout",
     "output_type": "stream",
     "text": [
      "True\n"
     ]
    }
   ],
   "source": [
    "# checking new minter\n",
    "print(contract.functions.minter().call() == newMinter)"
   ]
  },
  {
   "cell_type": "code",
   "execution_count": 31,
   "metadata": {},
   "outputs": [
    {
     "name": "stdout",
     "output_type": "stream",
     "text": [
      "0x4f57725f8f74421d1db951cafa3adf8c48e7ed95ca84a74cfc8c519c0728b336\n",
      "AttributeDict({'blockHash': HexBytes('0x123b66745bbe44d36289ab3d81574d8caa4d03b329b10dee0c12f94ae52f17fd'), 'blockNumber': 11023050, 'contractAddress': None, 'cumulativeGasUsed': 28505, 'effectiveGasPrice': 200000000000, 'from': '0xDD68f5fF62682582496836929cDf299258835b45', 'gasUsed': 28505, 'logs': [AttributeDict({'address': '0xe4fEa1E82FF4F437AB69243ab0ae0e68c1E151e3', 'blockHash': HexBytes('0x123b66745bbe44d36289ab3d81574d8caa4d03b329b10dee0c12f94ae52f17fd'), 'blockNumber': 11023050, 'data': '0x', 'logIndex': 0, 'removed': False, 'topics': [HexBytes('0xa2ea9883a321a3e97b8266c2b078bfeec6d50c711ed71f874a90d500ae2eaf36'), HexBytes('0x000000000000000000000000ceb0643f09ca9a74c0f49f3cfedbebaf0e003168')], 'transactionHash': HexBytes('0x4f57725f8f74421d1db951cafa3adf8c48e7ed95ca84a74cfc8c519c0728b336'), 'transactionIndex': 0})], 'logsBloom': HexBytes('0x00000000000000000000000000000000000000000000000000000000000000000000000000000000000008000002000000000000200000000000100000000000000000000000000000000000000000000000000000000000000000000000000000000000000800000000000000000000000000000000000000000000000000000000000000000000000000000400000000000000000000000000000000000000000000000000000000000000000000000000000000000000002000000000000000000000000000000000000000000000004000000000000000000000000000000000000000000000000000000000000000000000000800000000000000000000'), 'status': 1, 'to': '0xe4fEa1E82FF4F437AB69243ab0ae0e68c1E151e3', 'transactionHash': HexBytes('0x4f57725f8f74421d1db951cafa3adf8c48e7ed95ca84a74cfc8c519c0728b336'), 'transactionIndex': 0, 'type': '0x0'})\n"
     ]
    }
   ],
   "source": [
    "# Changing Owner\n",
    "# Create a nonce\n",
    "nonce = w3.eth.get_transaction_count(account1)\n",
    "\n",
    "# Create a Transaction\n",
    "newOwner=sample_account\n",
    "tx = contract.functions.changeOwner(newOwner).buildTransaction({\n",
    "        'from' : account1,\n",
    "        'nonce' : nonce,\n",
    "        'gas' : 3000000,\n",
    "        'gasPrice' : w3.toWei(200, 'gwei'),\n",
    "})\n",
    "\n",
    "# Sign Transaction\n",
    "signed_tx = w3.eth.account.sign_transaction(tx, private_key)\n",
    "\n",
    "\n",
    "# Send Raw Transaction\n",
    "tx_hash = w3.toHex(w3.eth.send_raw_transaction(signed_tx.rawTransaction))\n",
    "print(tx_hash)\n",
    "tx_receipt = w3.eth.wait_for_transaction_receipt(tx_hash)\n",
    "print(tx_receipt)\n"
   ]
  },
  {
   "cell_type": "code",
   "execution_count": 35,
   "metadata": {},
   "outputs": [
    {
     "name": "stdout",
     "output_type": "stream",
     "text": [
      "True\n"
     ]
    }
   ],
   "source": [
    "# checking owner\n",
    "print(contract.functions.owner().call() == sample_account)"
   ]
  }
 ],
 "metadata": {
  "kernelspec": {
   "display_name": "Python 3.9.7 ('Web3')",
   "language": "python",
   "name": "python3"
  },
  "language_info": {
   "codemirror_mode": {
    "name": "ipython",
    "version": 3
   },
   "file_extension": ".py",
   "mimetype": "text/x-python",
   "name": "python",
   "nbconvert_exporter": "python",
   "pygments_lexer": "ipython3",
   "version": "3.9.7"
  },
  "orig_nbformat": 4,
  "vscode": {
   "interpreter": {
    "hash": "5ee25d995fdff53f6710b6a1599c16ad29b21126fe8dcb3f661d734bc76345a4"
   }
  }
 },
 "nbformat": 4,
 "nbformat_minor": 2
}
